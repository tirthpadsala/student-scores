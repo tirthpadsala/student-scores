{
 "cells": [
  {
   "cell_type": "code",
   "execution_count": 1,
   "metadata": {},
   "outputs": [
    {
     "data": {
      "text/html": [
       "<div>\n",
       "<style scoped>\n",
       "    .dataframe tbody tr th:only-of-type {\n",
       "        vertical-align: middle;\n",
       "    }\n",
       "\n",
       "    .dataframe tbody tr th {\n",
       "        vertical-align: top;\n",
       "    }\n",
       "\n",
       "    .dataframe thead th {\n",
       "        text-align: right;\n",
       "    }\n",
       "</style>\n",
       "<table border=\"1\" class=\"dataframe\">\n",
       "  <thead>\n",
       "    <tr style=\"text-align: right;\">\n",
       "      <th></th>\n",
       "      <th>gender</th>\n",
       "      <th>race_ethnicity</th>\n",
       "      <th>parental_level_of_education</th>\n",
       "      <th>lunch</th>\n",
       "      <th>test_preparation_course</th>\n",
       "      <th>math_score</th>\n",
       "      <th>reading_score</th>\n",
       "      <th>writing_score</th>\n",
       "    </tr>\n",
       "  </thead>\n",
       "  <tbody>\n",
       "    <tr>\n",
       "      <th>0</th>\n",
       "      <td>female</td>\n",
       "      <td>group B</td>\n",
       "      <td>bachelor's degree</td>\n",
       "      <td>standard</td>\n",
       "      <td>none</td>\n",
       "      <td>72</td>\n",
       "      <td>72</td>\n",
       "      <td>74</td>\n",
       "    </tr>\n",
       "    <tr>\n",
       "      <th>1</th>\n",
       "      <td>female</td>\n",
       "      <td>group C</td>\n",
       "      <td>some college</td>\n",
       "      <td>standard</td>\n",
       "      <td>completed</td>\n",
       "      <td>69</td>\n",
       "      <td>90</td>\n",
       "      <td>88</td>\n",
       "    </tr>\n",
       "    <tr>\n",
       "      <th>2</th>\n",
       "      <td>female</td>\n",
       "      <td>group B</td>\n",
       "      <td>master's degree</td>\n",
       "      <td>standard</td>\n",
       "      <td>none</td>\n",
       "      <td>90</td>\n",
       "      <td>95</td>\n",
       "      <td>93</td>\n",
       "    </tr>\n",
       "    <tr>\n",
       "      <th>3</th>\n",
       "      <td>male</td>\n",
       "      <td>group A</td>\n",
       "      <td>associate's degree</td>\n",
       "      <td>free/reduced</td>\n",
       "      <td>none</td>\n",
       "      <td>47</td>\n",
       "      <td>57</td>\n",
       "      <td>44</td>\n",
       "    </tr>\n",
       "    <tr>\n",
       "      <th>4</th>\n",
       "      <td>male</td>\n",
       "      <td>group C</td>\n",
       "      <td>some college</td>\n",
       "      <td>standard</td>\n",
       "      <td>none</td>\n",
       "      <td>76</td>\n",
       "      <td>78</td>\n",
       "      <td>75</td>\n",
       "    </tr>\n",
       "  </tbody>\n",
       "</table>\n",
       "</div>"
      ],
      "text/plain": [
       "   gender race_ethnicity parental_level_of_education         lunch  \\\n",
       "0  female        group B           bachelor's degree      standard   \n",
       "1  female        group C                some college      standard   \n",
       "2  female        group B             master's degree      standard   \n",
       "3    male        group A          associate's degree  free/reduced   \n",
       "4    male        group C                some college      standard   \n",
       "\n",
       "  test_preparation_course  math_score  reading_score  writing_score  \n",
       "0                    none          72             72             74  \n",
       "1               completed          69             90             88  \n",
       "2                    none          90             95             93  \n",
       "3                    none          47             57             44  \n",
       "4                    none          76             78             75  "
      ]
     },
     "execution_count": 1,
     "metadata": {},
     "output_type": "execute_result"
    }
   ],
   "source": [
    "import pandas as pd\n",
    "import numpy as np\n",
    "import matplotlib.pyplot as plt\n",
    "import seaborn as sns\n",
    "\n",
    "df = pd.read_csv(r'stud.csv')\n",
    "df.head()"
   ]
  },
  {
   "cell_type": "markdown",
   "metadata": {},
   "source": [
    "dependent feature will be average and rest of will be features "
   ]
  },
  {
   "cell_type": "code",
   "execution_count": 2,
   "metadata": {},
   "outputs": [],
   "source": [
    "df['average_score'] = ((df['math_score'] + df['reading_score'] + df['writing_score'])/3).round(2)\n",
    "\n",
    "X=df.drop(['average_score'],axis=1)\n",
    "Y=df['average_score']"
   ]
  },
  {
   "cell_type": "code",
   "execution_count": 3,
   "metadata": {},
   "outputs": [],
   "source": [
    "numFeatures= df.select_dtypes(exclude='object').columns\n",
    "catFeatures= df.select_dtypes(include='object').columns\n",
    "\n",
    "numFeatures = numFeatures.drop('average_score')\n",
    "\n",
    "from sklearn.preprocessing import StandardScaler,OneHotEncoder\n",
    "\n",
    "numTransformer = StandardScaler()\n",
    "catTransformer = OneHotEncoder()\n",
    "\n",
    "from sklearn.compose import ColumnTransformer\n",
    "\n",
    "transForm = ColumnTransformer(\n",
    "    [\n",
    "        ('OneHotencoder',catTransformer,catFeatures),\n",
    "        ('StandardScaler',numTransformer,numFeatures)\n",
    "    ]\n",
    ")\n",
    "\n",
    "X = transForm.fit_transform(X)\n"
   ]
  },
  {
   "cell_type": "code",
   "execution_count": 4,
   "metadata": {},
   "outputs": [],
   "source": [
    "from sklearn.model_selection import train_test_split\n",
    "\n",
    "x_train, x_test, y_train, y_test =train_test_split(X,Y,test_size=0.2,random_state=42)"
   ]
  },
  {
   "cell_type": "code",
   "execution_count": 5,
   "metadata": {},
   "outputs": [
    {
     "data": {
      "text/plain": [
       "((800, 20), (800,), (200, 20), (200,))"
      ]
     },
     "execution_count": 5,
     "metadata": {},
     "output_type": "execute_result"
    }
   ],
   "source": [
    "x_train.shape, y_train.shape, x_test.shape, y_test.shape"
   ]
  },
  {
   "cell_type": "code",
   "execution_count": 6,
   "metadata": {},
   "outputs": [],
   "source": [
    "from sklearn.metrics import mean_squared_error,mean_absolute_error,r2_score\n",
    "\n",
    "def Eval(actual, predicted):\n",
    "    mse = mean_squared_error(actual,predicted)\n",
    "    mae = mean_absolute_error(actual,predicted)\n",
    "    r2 = r2_score(actual,predicted)\n",
    "    return mse,mae,r2"
   ]
  },
  {
   "cell_type": "code",
   "execution_count": 7,
   "metadata": {},
   "outputs": [
    {
     "name": "stdout",
     "output_type": "stream",
     "text": [
      "LinearRegression \n",
      "           mse: 7.01473194758038e-06 ,\n",
      "           mae: 0.002158098240913056 ,\n",
      "           r2: 0.9999999672774438\n",
      "------------------------------\n",
      "Ridge \n",
      "           mse: 8.754353502714127e-05 ,\n",
      "           mae: 0.007314586177978803 ,\n",
      "           r2: 0.9999995916239893\n",
      "------------------------------\n",
      "Lasso \n",
      "           mse: 1.2416796423199172 ,\n",
      "           mae: 0.8769183237190569 ,\n",
      "           r2: 0.9942077712680123\n",
      "------------------------------\n",
      "RandomForest \n",
      "           mse: 1.4149336201999956 ,\n",
      "           mae: 0.5280309999999973 ,\n",
      "           r2: 0.9933995703163294\n",
      "------------------------------\n",
      "GradientBoosting \n",
      "           mse: 0.9176471870029357 ,\n",
      "           mae: 0.5456587355108078 ,\n",
      "           r2: 0.9957193287050633\n",
      "------------------------------\n",
      "SVR \n",
      "           mse: 29.170881311962322 ,\n",
      "           mae: 1.4138396213281286 ,\n",
      "           r2: 0.8639226970357147\n",
      "------------------------------\n",
      "DecisionTree \n",
      "           mse: 2.5308705000000002 ,\n",
      "           mae: 1.12345 ,\n",
      "           r2: 0.9881939106292739\n",
      "------------------------------\n",
      "CatBoost \n",
      "           mse: 1.3510367221392392 ,\n",
      "           mae: 0.3413169696757359 ,\n",
      "           r2: 0.9936976387038733\n",
      "------------------------------\n",
      "XGBoost \n",
      "           mse: 1.1564943577090712 ,\n",
      "           mae: 0.5721613059997558 ,\n",
      "           r2: 0.9946051464332711\n",
      "------------------------------\n",
      "Best Model is LinearRegression with R2 Score of 0.9999999672774438\n"
     ]
    }
   ],
   "source": [
    "from sklearn.linear_model import LinearRegression, Ridge, Lasso\n",
    "from sklearn.ensemble import RandomForestRegressor, GradientBoostingRegressor\n",
    "from sklearn.svm import SVR\n",
    "from sklearn.tree import DecisionTreeRegressor\n",
    "from catboost import CatBoostRegressor\n",
    "from xgboost import XGBRegressor\n",
    "\n",
    "models = {\n",
    "    'LinearRegression': LinearRegression(),\n",
    "    'Ridge': Ridge(),\n",
    "    'Lasso': Lasso(),\n",
    "    'RandomForest': RandomForestRegressor(),\n",
    "    'GradientBoosting': GradientBoostingRegressor(),\n",
    "    'SVR': SVR(),\n",
    "    'DecisionTree': DecisionTreeRegressor(),\n",
    "    'CatBoost': CatBoostRegressor(verbose=0),\n",
    "    'XGBoost': XGBRegressor()\n",
    "}\n",
    "\n",
    "modelList = models.keys()\n",
    "r2_scores=[]\n",
    "best_model = None\n",
    "for name,model in models.items():\n",
    "    if isinstance(model, CatBoostRegressor):\n",
    "        model.fit(x_train,y_train)\n",
    "    else:\n",
    "        model.fit(x_train,y_train)\n",
    "    yPred= model.predict(x_test)\n",
    "    mse,mae,r2 = Eval(y_test,yPred)\n",
    "    r2_scores.append(r2)\n",
    "    print(f'''{name} \n",
    "           mse: {mse} ,\n",
    "           mae: {mae} ,\n",
    "           r2: {r2}''')\n",
    "    print('-'*30)\n",
    "\n",
    "best_model = list(modelList)[r2_scores.index(max(r2_scores))]\n",
    "print(f'Best Model is {best_model} with R2 Score of {max(r2_scores)}')\n"
   ]
  },
  {
   "cell_type": "code",
   "execution_count": 8,
   "metadata": {},
   "outputs": [
    {
     "data": {
      "image/png": "[encoded data removed]",
      "text/plain": [
       "<Figure size 640x480 with 1 Axes>"
      ]
     },
     "metadata": {},
     "output_type": "display_data"
    }
   ],
   "source": [
    "reg = LinearRegression()\n",
    "reg.fit(X,Y)\n",
    "yPred = reg.predict(x_test)\n",
    "\n",
    "sns.regplot(x=y_test , y=yPred , ci=None , color='blue')\n",
    "plt.xlabel('Actual')\n",
    "plt.ylabel('Predicted')\n",
    "plt.show()\n"
   ]
  },
  {
   "cell_type": "code",
   "execution_count": 9,
   "metadata": {},
   "outputs": [
    {
     "data": {
      "text/html": [
       "<div>\n",
       "<style scoped>\n",
       "    .dataframe tbody tr th:only-of-type {\n",
       "        vertical-align: middle;\n",
       "    }\n",
       "\n",
       "    .dataframe tbody tr th {\n",
       "        vertical-align: top;\n",
       "    }\n",
       "\n",
       "    .dataframe thead th {\n",
       "        text-align: right;\n",
       "    }\n",
       "</style>\n",
       "<table border=\"1\" class=\"dataframe\">\n",
       "  <thead>\n",
       "    <tr style=\"text-align: right;\">\n",
       "      <th></th>\n",
       "      <th>Actual</th>\n",
       "      <th>Predicted</th>\n",
       "      <th>Difference</th>\n",
       "    </tr>\n",
       "  </thead>\n",
       "  <tbody>\n",
       "    <tr>\n",
       "      <th>count</th>\n",
       "      <td>200.000000</td>\n",
       "      <td>200.000000</td>\n",
       "      <td>200.000000</td>\n",
       "    </tr>\n",
       "    <tr>\n",
       "      <th>mean</th>\n",
       "      <td>66.176550</td>\n",
       "      <td>66.176577</td>\n",
       "      <td>0.002097</td>\n",
       "    </tr>\n",
       "    <tr>\n",
       "      <th>std</th>\n",
       "      <td>14.678118</td>\n",
       "      <td>14.677985</td>\n",
       "      <td>0.001535</td>\n",
       "    </tr>\n",
       "    <tr>\n",
       "      <th>min</th>\n",
       "      <td>9.000000</td>\n",
       "      <td>8.999720</td>\n",
       "      <td>0.000017</td>\n",
       "    </tr>\n",
       "    <tr>\n",
       "      <th>25%</th>\n",
       "      <td>56.247500</td>\n",
       "      <td>56.249619</td>\n",
       "      <td>0.000314</td>\n",
       "    </tr>\n",
       "    <tr>\n",
       "      <th>50%</th>\n",
       "      <td>68.165000</td>\n",
       "      <td>68.166648</td>\n",
       "      <td>0.002925</td>\n",
       "    </tr>\n",
       "    <tr>\n",
       "      <th>75%</th>\n",
       "      <td>76.415000</td>\n",
       "      <td>76.416949</td>\n",
       "      <td>0.003417</td>\n",
       "    </tr>\n",
       "    <tr>\n",
       "      <th>max</th>\n",
       "      <td>96.330000</td>\n",
       "      <td>96.332805</td>\n",
       "      <td>0.004207</td>\n",
       "    </tr>\n",
       "  </tbody>\n",
       "</table>\n",
       "</div>"
      ],
      "text/plain": [
       "           Actual   Predicted  Difference\n",
       "count  200.000000  200.000000  200.000000\n",
       "mean    66.176550   66.176577    0.002097\n",
       "std     14.678118   14.677985    0.001535\n",
       "min      9.000000    8.999720    0.000017\n",
       "25%     56.247500   56.249619    0.000314\n",
       "50%     68.165000   68.166648    0.002925\n",
       "75%     76.415000   76.416949    0.003417\n",
       "max     96.330000   96.332805    0.004207"
      ]
     },
     "execution_count": 9,
     "metadata": {},
     "output_type": "execute_result"
    }
   ],
   "source": [
    "predicted_df = pd.DataFrame({'Actual':y_test,'Predicted':yPred , 'Difference':np.abs(y_test-yPred)})\n",
    "predicted_df.describe()\n"
   ]
  },
  {
   "cell_type": "code",
   "execution_count": null,
   "metadata": {},
   "outputs": [],
   "source": []
  },
  {
   "cell_type": "code",
   "execution_count": null,
   "metadata": {},
   "outputs": [],
   "source": []
  }
 ],
 "metadata": {
  "kernelspec": {
   "display_name": "Python 3",
   "language": "python",
   "name": "python3"
  },
  "language_info": {
   "codemirror_mode": {
    "name": "ipython",
    "version": 3
   },
   "file_extension": ".py",
   "mimetype": "text/x-python",
   "name": "python",
   "nbconvert_exporter": "python",
   "pygments_lexer": "ipython3",
   "version": "3.11.1"
  }
 },
 "nbformat": 4,
 "nbformat_minor": 2
}
